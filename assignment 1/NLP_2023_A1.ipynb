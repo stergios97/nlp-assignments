{
 "cells": [
  {
   "cell_type": "code",
   "execution_count": 33,
   "id": "cf942599",
   "metadata": {},
   "outputs": [],
   "source": [
    "import re, doctest"
   ]
  },
  {
   "cell_type": "code",
   "execution_count": null,
   "id": "7c06095a",
   "metadata": {},
   "outputs": [],
   "source": [
    "def validate1(s):\n",
    "    \"\"\"\n",
    "    Checks whether the string is a valid employee ID using a single regular expression.\n",
    "    An employee ID is valid if and only if it consists\n",
    "    only of 6-10 alphabetic characters (letters), followed by 2 numeric digits.\n",
    "\n",
    "    (Assumes s is a string without any non-ASCII characters.\n",
    "    Otherwise, does not make any assumptions about the string.)\n",
    "\n",
    "    The lines below give example inputs and correct outputs using doctest notation,\n",
    "    and can be run to test the code. Passing these tests is NOT sufficient\n",
    "    to guarantee your implementation is correct. You may add additional test cases.\n",
    "\n",
    "    >>> validate1('AbCdEf00')\n",
    "    True\n",
    "    >>> validate1('$0RQLpCHz49')\n",
    "    False\n",
    "    \"\"\"\n",
    "    EMPLOYEE_RE = r'^[a-zA-Z]{6,10}\\d{2}$' #string anchor, matches 6 to 10 alphabetic characters and 2 numeric digits.\n",
    "    if re.search(EMPLOYEE_RE, s):\n",
    "        return True\n",
    "    return False"
   ]
  },
  {
   "cell_type": "code",
   "execution_count": 35,
   "id": "33a911c5",
   "metadata": {},
   "outputs": [
    {
     "data": {
      "text/plain": [
       "True"
      ]
     },
     "execution_count": 35,
     "metadata": {},
     "output_type": "execute_result"
    }
   ],
   "source": [
    "validate1('AbCdEf00')"
   ]
  },
  {
   "cell_type": "code",
   "execution_count": 36,
   "id": "d4ba1c98",
   "metadata": {},
   "outputs": [
    {
     "data": {
      "text/plain": [
       "False"
      ]
     },
     "execution_count": 36,
     "metadata": {},
     "output_type": "execute_result"
    }
   ],
   "source": [
    "validate1('$0RQLpCHz49')"
   ]
  },
  {
   "cell_type": "code",
   "execution_count": 37,
   "id": "90e7f3b6",
   "metadata": {},
   "outputs": [
    {
     "data": {
      "text/plain": [
       "True"
      ]
     },
     "execution_count": 37,
     "metadata": {},
     "output_type": "execute_result"
    }
   ],
   "source": [
    "validate1('abdfesas01')\n",
    "validate1('aCDFRa00')"
   ]
  },
  {
   "cell_type": "code",
   "execution_count": null,
   "id": "e0a0d561",
   "metadata": {},
   "outputs": [],
   "source": [
    "def validate2(s):\n",
    "    \"\"\"\n",
    "    >>> validate2('AbCdEf00')\n",
    "    True\n",
    "    >>> validate2('$0RQLpCHz49')\n",
    "    False\n",
    "    \"\"\"\n",
    "    if len(s) < 8 or len(s) > 12: # total length must be between 8 and 12.\n",
    "        return False\n",
    "    if not all(c.isalpha() for c in s[:len(s)-2]):  \n",
    "        return False\n",
    "    if not all(c.isdigit() for c in s[len(s)-2:]):  \n",
    "        return False\n",
    "    return True"
   ]
  },
  {
   "cell_type": "code",
   "execution_count": 39,
   "id": "d77ecc91",
   "metadata": {},
   "outputs": [
    {
     "data": {
      "text/plain": [
       "True"
      ]
     },
     "execution_count": 39,
     "metadata": {},
     "output_type": "execute_result"
    }
   ],
   "source": [
    "validate2('aCDFRa00')"
   ]
  },
  {
   "cell_type": "code",
   "execution_count": 40,
   "id": "9ef44c92",
   "metadata": {},
   "outputs": [
    {
     "data": {
      "text/plain": [
       "False"
      ]
     },
     "execution_count": 40,
     "metadata": {},
     "output_type": "execute_result"
    }
   ],
   "source": [
    "validate2('$0RQLpCHz49')"
   ]
  },
  {
   "cell_type": "code",
   "execution_count": 41,
   "id": "a585f49f",
   "metadata": {},
   "outputs": [
    {
     "data": {
      "text/plain": [
       "False"
      ]
     },
     "execution_count": 41,
     "metadata": {},
     "output_type": "execute_result"
    }
   ],
   "source": [
    "validate2('av12')  #total length <8, so we suppose to output FALSE"
   ]
  },
  {
   "cell_type": "code",
   "execution_count": null,
   "id": "aa43c7f1",
   "metadata": {},
   "outputs": [
    {
     "data": {
      "text/plain": [
       "0.3333333333333333"
      ]
     },
     "execution_count": 50,
     "metadata": {},
     "output_type": "execute_result"
    }
   ],
   "source": [
    "def dna_prob(seq):\n",
    "    \"\"\"\n",
    "    Given a sequence of the DNA bases {A, C, G, T},\n",
    "    stored as a string, returns a conditional probability table\n",
    "    in a data structure such that one base (b1) can be looked up,\n",
    "    and then a second (b2), to get the probability p(b2 | b1)\n",
    "    of the second base occurring immediately after the first.\n",
    "    (Assumes the length of seq is >= 3, and that the probability of\n",
    "    any b1 and b2 which have never been seen together is 0.\n",
    "    Ignores the probability that b1 will be followed by the\n",
    "    end of the string.)\n",
    "\n",
    "    >>> tbl = dna_prob('ATCGATTGAGCTCTAGCG')\n",
    "    >>> tbl['T']['T']\n",
    "    0.2\n",
    "    >>> tbl['G']['A']\n",
    "    0.5\n",
    "    >>> tbl['C']['G']\n",
    "    0.5\n",
    "    \"\"\"\n",
    "    counts = {}\n",
    "    for i in range(len(seq) - 1):\n",
    "        b1, b2 = seq[i], seq[i+1]\n",
    "        if b1 not in counts:\n",
    "            counts[b1] = {}\n",
    "        if b2 not in counts[b1]:\n",
    "            counts[b1][b2] = 0\n",
    "        counts[b1][b2] += 1\n",
    "\n",
    "    tbl = {}\n",
    "    for b1 in counts:\n",
    "        total = sum(counts[b1].values())\n",
    "        tbl[b1] = {b2: counts[b1][b2] / total for b2 in counts[b1]}\n",
    "\n",
    "    return tbl\n",
    "\n",
    "tbl = dna_prob('AATCGGCTTA')\n",
    "tbl['T']['T']\n",
    "tbl['T']['A']"
   ]
  },
  {
   "cell_type": "code",
   "execution_count": null,
   "id": "798c9535",
   "metadata": {},
   "outputs": [],
   "source": [
    "def dna_bp(seq):\n",
    "    \"\"\"\n",
    "    Given a string representing a sequence of DNA bases,\n",
    "    returns the paired sequence, also as a string,\n",
    "    where A is always paired with T and C with G.\n",
    "\n",
    "    >>> dna_bp('ATCGATTGAGCTCTAGCG')\n",
    "    'TAGCTAACTCGAGATCGC'\n",
    "    \"\"\"\n",
    "    pairs = {'A': 'T', 'T': 'A', 'C': 'G', 'G': 'C'}\n",
    "    return ''.join(pairs[b] for b in seq)"
   ]
  },
  {
   "cell_type": "code",
   "execution_count": 52,
   "id": "01308414",
   "metadata": {},
   "outputs": [
    {
     "data": {
      "text/plain": [
       "'TAGCTAACTCGAGATCGC'"
      ]
     },
     "execution_count": 52,
     "metadata": {},
     "output_type": "execute_result"
    }
   ],
   "source": [
    "dna_bp('ATCGATTGAGCTCTAGCG')"
   ]
  },
  {
   "cell_type": "code",
   "execution_count": 53,
   "id": "c15425e9",
   "metadata": {},
   "outputs": [
    {
     "data": {
      "text/plain": [
       "'TAGCGGAATT'"
      ]
     },
     "execution_count": 53,
     "metadata": {},
     "output_type": "execute_result"
    }
   ],
   "source": [
    "dna_bp('ATCGCCTTAA')"
   ]
  },
  {
   "cell_type": "code",
   "execution_count": null,
   "id": "e7226aa5",
   "metadata": {},
   "outputs": [],
   "source": [
    "if __name__=='__main__':\n",
    "    doctest.testmod() # This runs the doctests and prints any failures."
   ]
  }
 ],
 "metadata": {
  "kernelspec": {
   "display_name": "Python 3 (ipykernel)",
   "language": "python",
   "name": "python3"
  },
  "language_info": {
   "codemirror_mode": {
    "name": "ipython",
    "version": 3
   },
   "file_extension": ".py",
   "mimetype": "text/x-python",
   "name": "python",
   "nbconvert_exporter": "python",
   "pygments_lexer": "ipython3",
   "version": "3.8.13"
  }
 },
 "nbformat": 4,
 "nbformat_minor": 5
}
